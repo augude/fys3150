{
 "cells": [
  {
   "cell_type": "code",
   "execution_count": null,
   "metadata": {},
   "outputs": [],
   "source": [
    "import numpy as np\n",
    "import matplotlib.pyplot as plt \n",
    "import seaborn as sns\n",
    "import pyarma as pa\n",
    "from plotting_utils import create_animation, deviating_probability, measure, evolution\n",
    "sns.set_theme(font_scale = 2)"
   ]
  },
  {
   "cell_type": "code",
   "execution_count": null,
   "metadata": {},
   "outputs": [],
   "source": [
    "type = 'double'\n",
    "obj = pa.cx_cube()\n",
    "obj = pa.cx_cube()\n",
    "obj.load(f\"../output/{type}_evolution.bin\")\n",
    "obj = np.array(obj)\n",
    "\n",
    "from scipy.signal import argrelextrema\n",
    "\n",
    "initialX = obj[0, :, 0]\n",
    "x = np.linspace(0, 1, len(initialX))\n",
    "max = argrelextrema(initialX, np.greater)\n",
    "lmb_list = np.diff(x[max])\n",
    "lmb = np.mean(lmb_list)/2\n",
    "print(lmb)\n",
    "\n",
    "#p = 200 \n",
    "d = 0.05 #slit seperation\n",
    "a = 0.05 #slit width\n",
    "X = 0.30 #distance to screen\n",
    "#lmb = 1/p\n",
    "\n",
    "n = np.arange(-2, 3, 1)\n",
    "theta = np.arcsin(n*lmb/d)\n",
    "y = 0.5 + X*np.tan(theta)\n",
    "print(y)"
   ]
  },
  {
   "cell_type": "code",
   "execution_count": null,
   "metadata": {},
   "outputs": [],
   "source": [
    "type = 'no'\n",
    "obj = pa.cx_cube()\n",
    "obj.load(f\"../output/{type}_evolution.bin\")\n",
    "obj = np.array(obj)\n",
    "\n",
    "fig, axs = plt.subplots(1, 1, figsize = (10, 10))\n",
    "\n",
    "M = len(obj[0, 0, :])\n",
    "X = np.linspace(0, 1, M)\n",
    "Z = np.real(np.transpose(obj[0, :, M//2]))\n",
    "Z1 = np.imag(np.transpose(obj[0, :, M//2]))\n",
    "Z2 = np.absolute(np.transpose(obj[0, :, M//2]))\n",
    "\n",
    "axs.plot(X, Z, label = r'Re($u$)')\n",
    "axs.plot(X, Z1, label = r'Im($u$)')\n",
    "axs.plot(X, Z2, label = r'|$u$|')\n",
    "axs.set_xlabel('x')\n",
    "axs.set_xlim([0, 0.5])\n",
    "axs.set_ylabel(r'$u(x, y = 0.5, t = 0)$')\n",
    "axs.set_title('Initial wave packet')\n",
    "\n",
    "plt.legend(loc = 'upper left')\n",
    "fig.tight_layout()\n",
    "plt.savefig('../output/initial.pdf', bbox_inches = 'tight')\n",
    "plt.show()"
   ]
  },
  {
   "cell_type": "code",
   "execution_count": null,
   "metadata": {},
   "outputs": [],
   "source": [
    "deviating_probability('double', 'no', T = 8e-3)"
   ]
  },
  {
   "cell_type": "code",
   "execution_count": null,
   "metadata": {},
   "outputs": [],
   "source": [
    "deviating_probability('double', T = 2e-3, dt = 2.5e-5)"
   ]
  },
  {
   "cell_type": "code",
   "execution_count": null,
   "metadata": {},
   "outputs": [],
   "source": [
    "create_animation('double')"
   ]
  },
  {
   "cell_type": "code",
   "execution_count": null,
   "metadata": {},
   "outputs": [],
   "source": [
    "measure('doublemeasure', y = 0.8, t = 3.5e-3, T = 2e-3, title = 'Detection probability after\\n measurement of double-slit barrier')"
   ]
  },
  {
   "cell_type": "code",
   "execution_count": null,
   "metadata": {},
   "outputs": [],
   "source": [
    "measure('double', y = 0.8, t = 2e-3, T = 2e-3)"
   ]
  },
  {
   "cell_type": "code",
   "execution_count": null,
   "metadata": {},
   "outputs": [],
   "source": [
    "measure('no', y = 0.8, t = 2e-3, T = 2e-3)"
   ]
  },
  {
   "cell_type": "code",
   "execution_count": null,
   "metadata": {},
   "outputs": [],
   "source": [
    "measure('triple', y = 0.8, t = 2e-3, T = 2e-3)"
   ]
  },
  {
   "cell_type": "code",
   "execution_count": null,
   "metadata": {},
   "outputs": [],
   "source": [
    "create_animation(\"tunnel\")"
   ]
  },
  {
   "cell_type": "code",
   "execution_count": null,
   "metadata": {},
   "outputs": [],
   "source": [
    "evolution('double', T = 2e-3, plotstyle='abs')"
   ]
  },
  {
   "cell_type": "code",
   "execution_count": null,
   "metadata": {},
   "outputs": [],
   "source": [
    "evolution('double', T = 2e-3, plotstyle='real')"
   ]
  },
  {
   "cell_type": "code",
   "execution_count": null,
   "metadata": {},
   "outputs": [],
   "source": [
    "evolution('double', T = 2e-3, plotstyle='imag')"
   ]
  },
  {
   "cell_type": "code",
   "execution_count": null,
   "metadata": {},
   "outputs": [],
   "source": [
    "evolution('doublemeasure', T = 2e-3, plotstyle='abs')"
   ]
  }
 ],
 "metadata": {
  "kernelspec": {
   "display_name": "Python 3.10.4 64-bit",
   "language": "python",
   "name": "python3"
  },
  "language_info": {
   "codemirror_mode": {
    "name": "ipython",
    "version": 3
   },
   "file_extension": ".py",
   "mimetype": "text/x-python",
   "name": "python",
   "nbconvert_exporter": "python",
   "pygments_lexer": "ipython3",
   "version": "3.10.4"
  },
  "orig_nbformat": 4,
  "vscode": {
   "interpreter": {
    "hash": "916dbcbb3f70747c44a77c7bcd40155683ae19c65e1c03b4aa3499c5328201f1"
   }
  }
 },
 "nbformat": 4,
 "nbformat_minor": 2
}
