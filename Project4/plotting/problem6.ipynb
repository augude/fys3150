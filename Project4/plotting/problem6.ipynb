{
 "cells": [
  {
   "cell_type": "code",
   "execution_count": null,
   "metadata": {},
   "outputs": [],
   "source": [
    "import pandas as pd\n",
    "import numpy as np\n",
    "import matplotlib.pyplot as plt\n",
    "import seaborn as sns\n",
    "from plotting_utils import binToDf\n",
    "import tikzplotlib\n",
    "sns.set_theme(font_scale = 2)"
   ]
  },
  {
   "cell_type": "code",
   "execution_count": null,
   "metadata": {},
   "outputs": [],
   "source": [
    "df1 = binToDf('../output/unordered1.bin') # At T = 1.0\n",
    "df2 = binToDf('../output/unordered2.bin') # At T = 2.4"
   ]
  },
  {
   "cell_type": "code",
   "execution_count": null,
   "metadata": {},
   "outputs": [],
   "source": [
    "burnInindex = int(0.8e7)\n",
    "energy1 = df1.energy[burnInindex:]/df1.gridsize[0]**2\n",
    "energy2 = df2.energy[burnInindex:]/df1.gridsize[0]**2\n",
    "\n",
    "fig, axs = plt.subplots(1, 2, figsize = (15, 10))\n",
    "axs[0].hist(energy1, bins = 'auto', density = True, edgecolor = 'None')\n",
    "axs[1].hist(energy2, bins = 'auto', density = True, edgecolor = 'None')\n",
    "\n",
    "axs[0].set_xlabel(r'$\\epsilon\\;[J]$')\n",
    "axs[1].set_xlabel(r'$\\epsilon\\;[J]$')\n",
    "axs[0].set_ylabel('Frequency')\n",
    "axs[1].set_ylabel('Frequency')\n",
    "axs[0].set_title(r'T = $1.0\\; J/k$')\n",
    "axs[1].set_title(r'T = $2.4\\; J/k$')\n",
    "fig.suptitle('Histogram of energy per particle')\n",
    "fig.tight_layout()\n",
    "plt.savefig('figures/histogram.pdf', bbox_inches = 'tight')\n",
    "tikzplotlib.save(\n",
    "            f\"tex/histogram.tex\",\n",
    "            extra_axis_parameters=[\n",
    "                \"title style={align=center}\",\n",
    "                \"xmajorticks=true\",\n",
    "                \"ymajorticks=true\",\n",
    "                \"mark options={mark size=2.5pt, line width=1.5pt}\",\n",
    "            ],\n",
    "            strict=True,\n",
    "        )\n",
    "plt.show()"
   ]
  },
  {
   "cell_type": "code",
   "execution_count": null,
   "metadata": {},
   "outputs": [],
   "source": [
    "files40 = [f\"../output/L=20_{i}.bin\" for i in [0, 2, 3, 4]]\n",
    "fig, axs = plt.subplots(1, 1, figsize = (10, 10))\n",
    "for index, files in enumerate(files40):\n",
    "    df = binToDf(files) \n",
    "    T = df.temperature[0]\n",
    "    burnInindex = int(0.02*len(df))\n",
    "    energy = df.energy[burnInindex:]/df.gridsize[0]**2\n",
    "    axs.hist(energy, bins = 'auto', alpha = 1 - index/5, density = True, edgecolor = 'None', label = f'T = {T} $J/k$', align = 'mid')\n",
    "axs.set_yscale('log')\n",
    "axs.set_xlabel(r'$\\epsilon\\;[J]$')\n",
    "axs.set_ylabel('Logarithmic normalized frequency')\n",
    "axs.set_title(r'Histograms of energy per particle for gridsize $L = 20$')\n",
    "lgd = fig.legend(loc = 'lower center', ncol = 2, fancybox = True, \n",
    "            bbox_to_anchor = (0.5, -0.1))\n",
    "fig.tight_layout()\n",
    "plt.savefig('figures/severalhistogram.pdf', bbox_inches = 'tight')\n",
    "tikzplotlib.save(\n",
    "            f\"tex/severalhistogram.tex\",\n",
    "            extra_axis_parameters=[\n",
    "                \"title style={align=center}\",\n",
    "                \"xmajorticks=true\",\n",
    "                \"ymajorticks=true\",\n",
    "                \"mark options={mark size=2.5pt, line width=1.5pt}\",\n",
    "            ],\n",
    "            strict=True,\n",
    "        )\n",
    "plt.show()"
   ]
  },
  {
   "cell_type": "code",
   "execution_count": null,
   "metadata": {},
   "outputs": [],
   "source": [
    "spin1_100 = pa.mat()\n",
    "spin1_100.load('../output/spin_1.000000.bin')\n",
    "spin2_100 = pa.mat()\n",
    "spin2_100.load('../output/spin_2.400000.bin')\n",
    "\n",
    "spin1_60 = pa.mat()\n",
    "spin1_60.load('../output/spin_1.000000_60.bin')\n",
    "spin2_60 = pa.mat()\n",
    "spin2_60.load('../output/spin_2.400000_60.bin')\n",
    "\n",
    "\n",
    "spin1_20 = pa.mat()\n",
    "spin1_20.load('../output/spin_1.000000_20.bin')\n",
    "spin2_20 = pa.mat()\n",
    "spin2_20.load('../output/spin_2.400000_20.bin')\n",
    "\n",
    "\n",
    "fig, axs = plt.subplots(2, 2, figsize = (10, 10))\n",
    "axs[0, 0].imshow(spin1_20)\n",
    "axs[0, 0].set_title(r'$L = 20$ at $T = 1.0\\, J/k$')\n",
    "axs[0, 1].imshow(spin2_20)\n",
    "axs[0, 1].set_title(r'$L = 20$ at $T = 2.4\\, J/k$')\n",
    "\n",
    "axs[1, 0].imshow(spin1_100)\n",
    "axs[1, 0].set_title(r'$L = 100$ at $T = 1.0\\, J/k$')\n",
    "axs[1, 1].imshow(spin2_100)\n",
    "axs[1, 1].set_title(r'$L = 100$ at $T = 2.4\\, J/k$')\n",
    "\n",
    "axs[0, 0].axis('off')\n",
    "axs[1, 0].axis('off')\n",
    "axs[0, 1].axis('off')\n",
    "axs[1, 1].axis('off')\n",
    "\n",
    "axs[0, 0].grid(0)\n",
    "axs[1, 0].grid(0)\n",
    "axs[0, 1].grid(0)\n",
    "axs[1, 1].grid(0)\n",
    "fig.suptitle(r'Spins in $L\\times L$ Ising model at temperature $T$')\n",
    "fig.tight_layout()\n",
    "plt.savefig('figures/spins.pdf', bbox_inches = 'tight')\n",
    "tikzplotlib.save(\n",
    "            f\"tex/spins.tex\",\n",
    "            extra_axis_parameters=[\n",
    "                \"title style={align=center}\",\n",
    "                \"xmajorticks=true\",\n",
    "                \"ymajorticks=true\",\n",
    "                \"mark options={mark size=2.5pt, line width=1.5pt}\",\n",
    "            ],\n",
    "            strict=True,\n",
    "        )"
   ]
  }
 ],
 "metadata": {
  "kernelspec": {
   "display_name": "Python 3.10.4 64-bit",
   "language": "python",
   "name": "python3"
  },
  "language_info": {
   "codemirror_mode": {
    "name": "ipython",
    "version": 3
   },
   "file_extension": ".py",
   "mimetype": "text/x-python",
   "name": "python",
   "nbconvert_exporter": "python",
   "pygments_lexer": "ipython3",
   "version": "3.10.4"
  },
  "orig_nbformat": 4,
  "vscode": {
   "interpreter": {
    "hash": "916dbcbb3f70747c44a77c7bcd40155683ae19c65e1c03b4aa3499c5328201f1"
   }
  }
 },
 "nbformat": 4,
 "nbformat_minor": 2
}
