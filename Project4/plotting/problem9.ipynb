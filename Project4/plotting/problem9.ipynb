{
 "cells": [
  {
   "cell_type": "code",
   "execution_count": 8,
   "metadata": {},
   "outputs": [],
   "source": [
    "import numpy as np\n",
    "import pandas as pd\n",
    "import matplotlib.pyplot as plt\n",
    "import seaborn as sns\n",
    "from plotting_utils import binToDf, extract_data, scatter_plot\n",
    "sns.set_theme(font_scale=2)\n",
    "import pyarma as pa\n",
    "from scipy.stats import linregress"
   ]
  },
  {
   "cell_type": "code",
   "execution_count": 2,
   "metadata": {},
   "outputs": [],
   "source": [
    "data40 = extract_data([f'../output/40_far/L=40_{i}.bin' for i in range(0, 32)])\n",
    "data60 = extract_data([f'../output/60_far/L=60_{i}.bin' for i in range(0, 32)])\n",
    "data80 = extract_data([f'../output/80_far/L=80_{i}.bin' for i in range(0, 32)])\n",
    "data100 = extract_data([f'../output/100_far/L=100_{i}.bin' for i in range(0, 32)])\n",
    "\n",
    "data = [data40, data60, data80, data100]"
   ]
  },
  {
   "cell_type": "code",
   "execution_count": 10,
   "metadata": {},
   "outputs": [
    {
     "data": {
      "text/plain": [
       "2.249604871097293"
      ]
     },
     "execution_count": 10,
     "metadata": {},
     "output_type": "execute_result"
    }
   ],
   "source": [
    "tcs = [data['T'][np.argmax(data['C'])] for data in data]\n",
    "linregress(1/np.array([40, 60, 80, 100]), tcs).intercept"
   ]
  }
 ],
 "metadata": {
  "kernelspec": {
   "display_name": "Python 3.10.4 64-bit",
   "language": "python",
   "name": "python3"
  },
  "language_info": {
   "codemirror_mode": {
    "name": "ipython",
    "version": 3
   },
   "file_extension": ".py",
   "mimetype": "text/x-python",
   "name": "python",
   "nbconvert_exporter": "python",
   "pygments_lexer": "ipython3",
   "version": "3.10.4"
  },
  "orig_nbformat": 4,
  "vscode": {
   "interpreter": {
    "hash": "916dbcbb3f70747c44a77c7bcd40155683ae19c65e1c03b4aa3499c5328201f1"
   }
  }
 },
 "nbformat": 4,
 "nbformat_minor": 2
}
