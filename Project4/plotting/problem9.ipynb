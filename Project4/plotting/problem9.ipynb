{
 "cells": [
  {
   "cell_type": "code",
   "execution_count": null,
   "metadata": {},
   "outputs": [],
   "source": [
    "import numpy as np\n",
    "import pandas as pd\n",
    "import matplotlib.pyplot as plt\n",
    "import seaborn as sns\n",
    "from plotting_utils import binToDf, extract_data, scatter_plot\n",
    "sns.set_theme(font_scale=2)\n",
    "import pyarma as pa\n",
    "from scipy.stats import linregress"
   ]
  },
  {
   "cell_type": "code",
   "execution_count": null,
   "metadata": {},
   "outputs": [],
   "source": [
    "data40 = extract_data([f'../output/40_far/L=40_{i}.bin' for i in range(0, 32)])\n",
    "data60 = extract_data([f'../output/60_far/L=60_{i}.bin' for i in range(0, 32)])\n",
    "data80 = extract_data([f'../output/80_far/L=80_{i}.bin' for i in range(0, 32)])\n",
    "data100 = extract_data([f'../output/100_far/L=100_{i}.bin' for i in range(0, 32)])\n",
    "data120 = extract_data([f'../output/120_far/L=120_{i}.bin' for i in range(0, 32)])\n",
    "data140 = extract_data([f'../output/140_far/L=140_{i}.bin' for i in range(0, 32)])\n",
    "\n",
    "data = [data40, data60, data80, data100, data120, data140]"
   ]
  },
  {
   "cell_type": "code",
   "execution_count": null,
   "metadata": {},
   "outputs": [],
   "source": [
    "from scipy.stats import linregress\n",
    "tcC = np.array([data['T'][np.argmax(data['C'])] for data in data])\n",
    "tcX = np.array([data['X'][np.argmax(data['C'])] for data in data])\n",
    "\n",
    "L = np.arange(40, 160, 20)\n",
    "x = 1/L\n",
    "tc = 0.5*(tcC + tcX)\n",
    "line = linregress(x, tc)\n",
    "fig, axs = plt.subplots(1, 1, figsize = (10, 10))\n",
    "axs.scatter(1/L, tc, label = r'Estimated $T_C(L)$')\n",
    "axs.plot(np.arange(-0.001, 1/40 + 0.001, 0.001), line.intercept + line.slope*np.arange(-0.001, 1/40 + 0.001, 0.001), linestyle = '--', label = r'Fitted line')\n",
    "axs.set_xlim([-0.001, 1/40 + 0.001])\n",
    "axs.scatter(0, line.intercept, c = 'r', label = r'Estimated $T_C(L = \\infty)$')\n",
    "axs.set_xticks(x)\n",
    "axs.set_xticklabels([r'$\\frac{1}{140}$', r'$\\frac{1}{120}$', r'$\\frac{1}{100}$', r'$\\frac{1}{80}$', r'$\\frac{1}{60}$', r'$\\frac{1}{40}$'])\n",
    "axs.set_ylabel(r'$T_C(L)\\,[J/k]$')\n",
    "axs.set_xlabel(r'$\\frac{1}{L}$')\n",
    "plt.legend(loc = 'upper left')\n",
    "fig.tight_layout()\n",
    "plt.savefig('figures/tc.pdf', bbox_inches = 'tight')\n",
    "plt.show()"
   ]
  }
 ],
 "metadata": {
  "kernelspec": {
   "display_name": "Python 3.10.6 64-bit",
   "language": "python",
   "name": "python3"
  },
  "language_info": {
   "codemirror_mode": {
    "name": "ipython",
    "version": 3
   },
   "file_extension": ".py",
   "mimetype": "text/x-python",
   "name": "python",
   "nbconvert_exporter": "python",
   "pygments_lexer": "ipython3",
   "version": "3.10.6"
  },
  "orig_nbformat": 4,
  "vscode": {
   "interpreter": {
    "hash": "e7370f93d1d0cde622a1f8e1c04877d8463912d04d973331ad4851f04de6915a"
   }
  }
 },
 "nbformat": 4,
 "nbformat_minor": 2
}
