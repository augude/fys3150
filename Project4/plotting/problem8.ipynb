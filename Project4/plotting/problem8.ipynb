{
 "cells": [
  {
   "cell_type": "code",
   "execution_count": null,
   "metadata": {},
   "outputs": [],
   "source": [
    "import numpy as np\n",
    "import pandas as pd\n",
    "import matplotlib.pyplot as plt\n",
    "import seaborn as sns\n",
    "from plotting_utils import binToDf, extract_data, scatter_plot\n",
    "sns.set_theme(font_scale=2)\n",
    "import pyarma as pa"
   ]
  },
  {
   "cell_type": "code",
   "execution_count": null,
   "metadata": {},
   "outputs": [],
   "source": [
    "data40   = extract_data([f'../output/40_far/L=40_{i}.bin' for i in range(0, 32)])\n",
    "data60 = extract_data([f'../output/60_far/L=60_{i}.bin' for i in range(0, 32)])\n",
    "data80 = extract_data([f'../output/80_far/L=80_{i}.bin' for i in range(0, 32)])\n",
    "data100 = extract_data([f'../output/100_far/L=100_{i}.bin' for i in range(0, 32)])\n",
    "data120 = extract_data([f'../output/120_far/L=120_{i}.bin' for i in range(0, 32)])\n",
    "data140 = extract_data([f'../output/140_far/L=140_{i}.bin' for i in range(0, 32)])\n",
    "\n",
    "data = [data40, data60, data80, data100, data120, data140]"
   ]
  },
  {
   "cell_type": "code",
   "execution_count": null,
   "metadata": {},
   "outputs": [],
   "source": [
    "mags = [d['M'] for d in data]\n",
    "temps = [d['T'] for d in data]\n",
    "labels = [f\"L={int(d.L[0])}\" for d in data]\n",
    "xlabel = r'T [J/k]'\n",
    "ylabel = r'$\\langle|m|\\rangle$'\n",
    "title = \"Mean magnetization per particle\"\n",
    "scatter_plot(temps, mags, xlabel, ylabel, title, labels, savefig=True, filename='phase_mag', height=-0.10)"
   ]
  },
  {
   "cell_type": "code",
   "execution_count": null,
   "metadata": {},
   "outputs": [],
   "source": [
    "engs = [d['E'] for d in data]\n",
    "temps = [d['T'] for d in data]\n",
    "labels = [f\"L={int(d.L[0])}\" for d in data]\n",
    "xlabel = r'T [J/k]'\n",
    "ylabel = r'$\\langle\\epsilon\\rangle\\, [J]$'\n",
    "title = 'Mean energy per particle '\n",
    "scatter_plot(temps, engs, xlabel, ylabel, title, labels, savefig=True, filename='phase_eng', height=-0.10)"
   ]
  },
  {
   "cell_type": "code",
   "execution_count": null,
   "metadata": {},
   "outputs": [],
   "source": [
    "heatcap = [d['C'] for d in data]\n",
    "temps = [d['T'] for d in data]\n",
    "labels = [f\"L={int(d.L[0])}\" for d in data]\n",
    "xlabel = r'T [J/k]'\n",
    "ylabel = r'$C_V\\, [k]$'\n",
    "title = 'Specific heat capacity'\n",
    "scatter_plot(temps, heatcap, xlabel, ylabel, title, labels, savefig=True, filename='phase_cv', height=-0.10)"
   ]
  },
  {
   "cell_type": "code",
   "execution_count": null,
   "metadata": {},
   "outputs": [],
   "source": [
    "magsusc = [d['X'] for d in data]\n",
    "temps = [d['T'] for d in data]\n",
    "labels = [f\"L={int(d.L[0])}\" for d in data]\n",
    "xlabel = r'T [J/k]'\n",
    "ylabel = r'$\\chi\\, [1/J]$'\n",
    "title = r'Magnetic susceptibility'\n",
    "scatter_plot(temps, magsusc, xlabel, ylabel, title, labels, savefig=True, filename='phase_chi', height=-0.10)"
   ]
  }
 ],
 "metadata": {
  "kernelspec": {
   "display_name": "Python 3.10.4 64-bit",
   "language": "python",
   "name": "python3"
  },
  "language_info": {
   "codemirror_mode": {
    "name": "ipython",
    "version": 3
   },
   "file_extension": ".py",
   "mimetype": "text/x-python",
   "name": "python",
   "nbconvert_exporter": "python",
   "pygments_lexer": "ipython3",
   "version": "3.10.4"
  },
  "orig_nbformat": 4,
  "vscode": {
   "interpreter": {
    "hash": "916dbcbb3f70747c44a77c7bcd40155683ae19c65e1c03b4aa3499c5328201f1"
   }
  }
 },
 "nbformat": 4,
 "nbformat_minor": 2
}
