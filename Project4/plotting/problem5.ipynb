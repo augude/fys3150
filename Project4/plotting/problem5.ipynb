{
 "cells": [
  {
   "cell_type": "code",
   "execution_count": null,
   "metadata": {},
   "outputs": [],
   "source": [
    "import pandas as pd\n",
    "import numpy as np\n",
    "import matplotlib.pyplot as plt\n",
    "from plotting_utils import binToDf\n",
    "import seaborn as sns\n",
    "import tikzplotlib \n",
    "sns.set_theme(font_scale = 2)"
   ]
  },
  {
   "cell_type": "code",
   "execution_count": null,
   "metadata": {},
   "outputs": [],
   "source": [
    "ordered1 = binToDf('../output/ordered1.bin')\n",
    "unordered1 = binToDf('../output/unordered1.bin')\n",
    "ordered2 = binToDf('../output/ordered2.bin')\n",
    "unordered2 = binToDf('../output/unordered2.bin')\n",
    "cycles = np.arange(0, len(ordered1))\n",
    "L = ordered1.gridsize[0]"
   ]
  },
  {
   "cell_type": "code",
   "execution_count": null,
   "metadata": {},
   "outputs": [],
   "source": [
    "fig1, axs1 = plt.subplots(1, 2, figsize = (10, 8))\n",
    "axs1[0].semilogx(cycles[::5], ordered1.energy1mom[::5]/L**2, label = 'Ordered initial state')\n",
    "axs1[0].semilogx(cycles[::5], unordered1.energy1mom[::5]/L**2, label = 'Unordered initial state')\n",
    "axs1[0].set_xlabel('log MC cycles')\n",
    "axs1[0].set_ylabel(r'$\\epsilon \\; [J]$')\n",
    "axs1[0].set_title(r'$T = 1.0 J/k$')\n",
    "\n",
    "axs1[1].semilogx(cycles[::5], ordered2.energy1mom[::5]/L**2)\n",
    "axs1[1].semilogx(cycles[::5], unordered2.energy1mom[::5]/L**2)\n",
    "axs1[1].set_xlabel('log MC cycles')\n",
    "axs1[1].set_ylabel(r'$\\epsilon \\; [J]$')\n",
    "axs1[1].set_title(r'$T = 2.4\\; J/k$')\n",
    "fig1.suptitle('Sample average of energy per particle')\n",
    "lgd = fig1.legend(loc = 'lower center', ncol = 2, fancybox = True, \n",
    "            bbox_to_anchor = (0.5, -0.05))\n",
    "fig1.tight_layout()\n",
    "tikzplotlib.save(\n",
    "            f\"tex/burneng.tex\",\n",
    "            extra_axis_parameters=[\n",
    "                \"title style={align=center}\",\n",
    "                \"xmajorticks=true\",\n",
    "                \"ymajorticks=true\",\n",
    "                \"mark options={mark size=2.5pt, line width=1.5pt}\",\n",
    "            ],\n",
    "            strict=True,\n",
    "        )\n",
    "plt.show()\n",
    "fig2, axs2 = plt.subplots(1, 2, figsize = (10, 8))\n",
    "axs2[0].semilogx(cycles[::5], ordered1.magnetization1mom[::5]/L**2, label = 'Ordered initial state')\n",
    "axs2[0].semilogx(cycles[::5], unordered1.magnetization1mom[::5]/L**2, label = 'Unordered initial state')\n",
    "axs2[0].set_xlabel('log MC cycles')\n",
    "axs2[0].set_ylabel(r'$|m|$')\n",
    "axs2[0].set_title(r'$T = 1.0 J/k$')\n",
    "\n",
    "axs2[1].semilogx(cycles[::5], ordered2.magnetization1mom[::5]/L**2)\n",
    "axs2[1].semilogx(cycles[::5], unordered2.magnetization1mom[::5]/L**2)\n",
    "axs2[1].set_xlabel('log MC cycles')\n",
    "axs2[1].set_ylabel(r'$|m|$')\n",
    "axs2[1].set_title(r'$T = 2.4\\; J/k$')\n",
    "fig2.suptitle('Sample average of magnetization per particle')\n",
    "lgd = fig2.legend(loc = 'lower center', ncol = 2, fancybox = True, \n",
    "            bbox_to_anchor = (0.5, -0.05))\n",
    "fig2.tight_layout()\n",
    "tikzplotlib.save(\n",
    "            f\"tex/burnmag.tex\",\n",
    "            extra_axis_parameters=[\n",
    "                \"title style={align=center}\",\n",
    "                \"xmajorticks=true\",\n",
    "                \"ymajorticks=true\",\n",
    "                \"mark options={mark size=2.5pt, line width=1.5pt}\",\n",
    "            ],\n",
    "            strict=True,\n",
    "        )\n",
    "plt.show()"
   ]
  },
  {
   "cell_type": "code",
   "execution_count": null,
   "metadata": {},
   "outputs": [],
   "source": [
    "fig1, axs1 = plt.subplots(2, 2, figsize = (15, 10))\n",
    "axs1[0, 0].semilogx(cycles[::5], ordered1.energy1mom[::5]/L**2, label = 'Ordered initial state')\n",
    "axs1[0, 0].semilogx(cycles[::5], unordered1.energy1mom[::5]/L**2, label = 'Unordered initial state')\n",
    "axs1[0, 0].set_xlabel('log MC cycles')\n",
    "axs1[0, 0].set_ylabel(r'$\\epsilon \\; [J]$')\n",
    "axs1[0, 0].set_title(r'$T = 1.0 J/k$')\n",
    "\n",
    "axs1[0, 1].semilogx(cycles[::5], ordered2.energy1mom[::5]/L**2)\n",
    "axs1[0, 1].semilogx(cycles[::5], unordered2.energy1mom[::5]/L**2)\n",
    "axs1[0, 1].set_xlabel('log MC cycles')\n",
    "axs1[0, 1].set_ylabel(r'$\\epsilon \\; [J]$')\n",
    "axs1[0, 1].set_title(r'$T = 2.4\\; J/k$')\n",
    "\n",
    "\n",
    "axs1[1, 0].semilogx(cycles[::5], ordered1.magnetization1mom[::5]/L**2)\n",
    "axs1[1, 0].semilogx(cycles[::5], unordered1.magnetization1mom[::5]/L**2)\n",
    "axs1[1, 0].set_xlabel('log MC cycles')\n",
    "axs1[1, 0].set_ylabel(r'$|m|$')\n",
    "\n",
    "axs1[1, 1].semilogx(cycles[::5], ordered2.magnetization1mom[::5]/L**2)\n",
    "axs1[1, 1].semilogx(cycles[::5], unordered2.magnetization1mom[::5]/L**2)\n",
    "axs1[1, 1].set_xlabel('log MC cycles')\n",
    "axs1[1, 1].set_ylabel(r'$|m|$')\n",
    "lgd = fig1.legend(loc = 'lower center', ncol = 2, fancybox = True, \n",
    "            bbox_to_anchor = (0.5, -0.05))\n",
    "fig1.suptitle('Sample average of energy and magnetization per particle')\n",
    "fig1.tight_layout()\n",
    "#tikzplotlib.clean_figure()\n",
    "tikzplotlib.save(\n",
    "            f\"tex/burn.tex\",\n",
    "            extra_axis_parameters=[\n",
    "                \"title style={align=center}\",\n",
    "                \"xmajorticks=true\",\n",
    "                \"ymajorticks=true\",\n",
    "                \"mark options={mark size=2.5pt, line width=1.5pt}\",\n",
    "            ],\n",
    "            strict=True,\n",
    "        )\n",
    "plt.show()\n"
   ]
  },
  {
   "cell_type": "code",
   "execution_count": null,
   "metadata": {},
   "outputs": [],
   "source": []
  }
 ],
 "metadata": {
  "kernelspec": {
   "display_name": "Python 3.10.4 64-bit",
   "language": "python",
   "name": "python3"
  },
  "language_info": {
   "codemirror_mode": {
    "name": "ipython",
    "version": 3
   },
   "file_extension": ".py",
   "mimetype": "text/x-python",
   "name": "python",
   "nbconvert_exporter": "python",
   "pygments_lexer": "ipython3",
   "version": "3.10.4"
  },
  "orig_nbformat": 4,
  "vscode": {
   "interpreter": {
    "hash": "916dbcbb3f70747c44a77c7bcd40155683ae19c65e1c03b4aa3499c5328201f1"
   }
  }
 },
 "nbformat": 4,
 "nbformat_minor": 2
}
