{
 "cells": [
  {
   "cell_type": "code",
   "execution_count": 2,
   "metadata": {},
   "outputs": [],
   "source": [
    "import numpy as np\n",
    "import matplotlib.pyplot as plt"
   ]
  },
  {
   "cell_type": "code",
   "execution_count": null,
   "metadata": {},
   "outputs": [],
   "source": [
    "timing = np.loadtxt('problem7.txt')\n",
    "num = timing[:, 0]\n",
    "time = timing[:, 1]\n",
    "frac = time/time[0]\n",
    "fig, axs = plt.subplots(1, 1, figsize = (10, 6))\n",
    "axs.scatter(num, frac)\n",
    "axs.plot(num, frac, linestyle = '--')\n",
    "axs.set_xlabel('Numer of threads')\n",
    "axs.set_xticks(num)\n",
    "axs.set_ylabel(r'$\\frac{T_n}{T_1}$')\n",
    "fig.tight_layout()\n",
    "fig,\n",
    "plt.show()\n",
    "print(num)"
   ]
  }
 ],
 "metadata": {
  "kernelspec": {
   "display_name": "Python 3.10.6 64-bit",
   "language": "python",
   "name": "python3"
  },
  "language_info": {
   "codemirror_mode": {
    "name": "ipython",
    "version": 3
   },
   "file_extension": ".py",
   "mimetype": "text/x-python",
   "name": "python",
   "nbconvert_exporter": "python",
   "pygments_lexer": "ipython3",
   "version": "3.10.6"
  },
  "orig_nbformat": 4,
  "vscode": {
   "interpreter": {
    "hash": "e7370f93d1d0cde622a1f8e1c04877d8463912d04d973331ad4851f04de6915a"
   }
  }
 },
 "nbformat": 4,
 "nbformat_minor": 2
}
